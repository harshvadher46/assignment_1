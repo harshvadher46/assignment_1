{
 "cells": [
  {
   "cell_type": "code",
   "execution_count": 1,
   "id": "7638052c-5216-4cb5-8b5b-f63d564b028b",
   "metadata": {},
   "outputs": [],
   "source": [
    "my_string = \"Harsh\""
   ]
  },
  {
   "cell_type": "code",
   "execution_count": 2,
   "id": "1dd48245-e6d2-48a9-a6ec-f5ecff15496c",
   "metadata": {},
   "outputs": [
    {
     "data": {
      "text/plain": [
       "'Harsh'"
      ]
     },
     "execution_count": 2,
     "metadata": {},
     "output_type": "execute_result"
    }
   ],
   "source": [
    "my_string"
   ]
  },
  {
   "cell_type": "code",
   "execution_count": 5,
   "id": "3e283800-2cec-44b2-a208-9fde14f4ac85",
   "metadata": {},
   "outputs": [],
   "source": [
    "\n",
    "my_list = [1,2,3,'harsh',56.7,True]"
   ]
  },
  {
   "cell_type": "code",
   "execution_count": 6,
   "id": "38c39b91-9220-4878-b9ac-fd1e55a08f87",
   "metadata": {},
   "outputs": [
    {
     "data": {
      "text/plain": [
       "[1, 2, 3, 'harsh', 56.7, True]"
      ]
     },
     "execution_count": 6,
     "metadata": {},
     "output_type": "execute_result"
    }
   ],
   "source": [
    "my_list"
   ]
  },
  {
   "cell_type": "code",
   "execution_count": null,
   "id": "c62b1760-2fe8-4bd2-b211-6e5f60a27003",
   "metadata": {},
   "outputs": [],
   "source": []
  },
  {
   "cell_type": "code",
   "execution_count": 7,
   "id": "b3ebc083-2224-4f6c-8b39-a4154cf952f7",
   "metadata": {},
   "outputs": [],
   "source": [
    "my_float = 45.67"
   ]
  },
  {
   "cell_type": "code",
   "execution_count": 8,
   "id": "ab99a633-271a-4fd3-b9ee-240149585588",
   "metadata": {},
   "outputs": [
    {
     "data": {
      "text/plain": [
       "45.67"
      ]
     },
     "execution_count": 8,
     "metadata": {},
     "output_type": "execute_result"
    }
   ],
   "source": [
    "my_float"
   ]
  },
  {
   "cell_type": "code",
   "execution_count": null,
   "id": "82e6878a-12f7-4730-bd2d-f92c84e1620f",
   "metadata": {},
   "outputs": [],
   "source": []
  },
  {
   "cell_type": "code",
   "execution_count": 9,
   "id": "a1801935-bbc5-4541-ae70-b348463ab5ef",
   "metadata": {},
   "outputs": [],
   "source": [
    "my_tuple = [1,2,4,5]"
   ]
  },
  {
   "cell_type": "code",
   "execution_count": 10,
   "id": "b634f3e4-ffdf-47d7-b5c3-38b421aa432f",
   "metadata": {},
   "outputs": [
    {
     "data": {
      "text/plain": [
       "[1, 2, 4, 5]"
      ]
     },
     "execution_count": 10,
     "metadata": {},
     "output_type": "execute_result"
    }
   ],
   "source": [
    "my_tuple"
   ]
  },
  {
   "cell_type": "code",
   "execution_count": null,
   "id": "4feb057f-2731-4a48-ad69-39f7299a8522",
   "metadata": {},
   "outputs": [],
   "source": []
  },
  {
   "cell_type": "code",
   "execution_count": null,
   "id": "0cda6a2f-b29c-4ca4-971d-a1164aff1760",
   "metadata": {},
   "outputs": [],
   "source": []
  },
  {
   "cell_type": "code",
   "execution_count": null,
   "id": "44d4fe57-f6e0-4d22-a90a-766082edbd6c",
   "metadata": {},
   "outputs": [],
   "source": []
  },
  {
   "cell_type": "code",
   "execution_count": null,
   "id": "16eff610-2f9f-49bb-adf5-8f623a1e52cf",
   "metadata": {},
   "outputs": [],
   "source": []
  },
  {
   "cell_type": "code",
   "execution_count": null,
   "id": "4c5db644-5090-491f-b794-83712ba8fe0d",
   "metadata": {},
   "outputs": [],
   "source": []
  },
  {
   "cell_type": "code",
   "execution_count": 11,
   "id": "503414ae-ceda-47c9-91e7-a77784bff111",
   "metadata": {},
   "outputs": [],
   "source": [
    "var1=''"
   ]
  },
  {
   "cell_type": "code",
   "execution_count": 12,
   "id": "7c221b8e-1ffc-4c2d-b1a8-1151539f39dc",
   "metadata": {},
   "outputs": [
    {
     "data": {
      "text/plain": [
       "str"
      ]
     },
     "execution_count": 12,
     "metadata": {},
     "output_type": "execute_result"
    }
   ],
   "source": [
    "type(var1)"
   ]
  },
  {
   "cell_type": "code",
   "execution_count": 13,
   "id": "861e663d-5c40-41a9-8bf9-9cab90f1601c",
   "metadata": {},
   "outputs": [],
   "source": [
    "var2 = '[ DS , ML , Python]'"
   ]
  },
  {
   "cell_type": "code",
   "execution_count": 14,
   "id": "59b80ea4-4389-4c5e-970f-d44b060c715a",
   "metadata": {},
   "outputs": [
    {
     "data": {
      "text/plain": [
       "str"
      ]
     },
     "execution_count": 14,
     "metadata": {},
     "output_type": "execute_result"
    }
   ],
   "source": [
    "type(var2)"
   ]
  },
  {
   "cell_type": "code",
   "execution_count": 15,
   "id": "1722ab7e-0ade-4547-8a7f-125f4016a9a3",
   "metadata": {},
   "outputs": [],
   "source": [
    "var3 = ['DS','ML','Python']"
   ]
  },
  {
   "cell_type": "code",
   "execution_count": 16,
   "id": "b2e2f37a-43d4-4f16-bb63-fac73740460d",
   "metadata": {},
   "outputs": [
    {
     "data": {
      "text/plain": [
       "list"
      ]
     },
     "execution_count": 16,
     "metadata": {},
     "output_type": "execute_result"
    }
   ],
   "source": [
    "type(var3)"
   ]
  },
  {
   "cell_type": "code",
   "execution_count": null,
   "id": "c25b8c56-3aa3-4e62-b125-e68c99bdb08c",
   "metadata": {},
   "outputs": [],
   "source": []
  },
  {
   "cell_type": "code",
   "execution_count": 17,
   "id": "b09cd008-f01e-4ae4-a4ca-30c09ffd1280",
   "metadata": {},
   "outputs": [],
   "source": [
    "var4=1"
   ]
  },
  {
   "cell_type": "code",
   "execution_count": 18,
   "id": "683ba74e-c223-4970-97c9-f1f8e28f2750",
   "metadata": {},
   "outputs": [
    {
     "data": {
      "text/plain": [
       "int"
      ]
     },
     "execution_count": 18,
     "metadata": {},
     "output_type": "execute_result"
    }
   ],
   "source": [
    "type(var4)"
   ]
  },
  {
   "cell_type": "code",
   "execution_count": 19,
   "id": "5298b898-3353-4a1a-8186-21a9aadbe88c",
   "metadata": {},
   "outputs": [],
   "source": [
    "#use of following variables#"
   ]
  },
  {
   "cell_type": "code",
   "execution_count": 20,
   "id": "7bfe7933-f68d-4971-acfc-f2835a296e41",
   "metadata": {},
   "outputs": [],
   "source": [
    "# '/'"
   ]
  },
  {
   "cell_type": "code",
   "execution_count": 21,
   "id": "6eabe359-8714-4405-974b-75e84c9fcd5d",
   "metadata": {},
   "outputs": [
    {
     "data": {
      "text/plain": [
       "2.0"
      ]
     },
     "execution_count": 21,
     "metadata": {},
     "output_type": "execute_result"
    }
   ],
   "source": [
    "4/2"
   ]
  },
  {
   "cell_type": "code",
   "execution_count": null,
   "id": "17cc1370-b171-4220-b0c0-6ec189d8a878",
   "metadata": {},
   "outputs": [],
   "source": []
  },
  {
   "cell_type": "code",
   "execution_count": 22,
   "id": "db1f1408-b62d-4fc4-a6d3-72c3e8cfb854",
   "metadata": {},
   "outputs": [],
   "source": [
    "# '%'"
   ]
  },
  {
   "cell_type": "code",
   "execution_count": 23,
   "id": "8b49b062-c074-4ee3-9239-92e02a776100",
   "metadata": {},
   "outputs": [
    {
     "data": {
      "text/plain": [
       "1"
      ]
     },
     "execution_count": 23,
     "metadata": {},
     "output_type": "execute_result"
    }
   ],
   "source": [
    "5%2"
   ]
  },
  {
   "cell_type": "code",
   "execution_count": null,
   "id": "d12d092d-cf79-497b-baff-9a58d91c024a",
   "metadata": {},
   "outputs": [],
   "source": []
  },
  {
   "cell_type": "code",
   "execution_count": 24,
   "id": "e2436001-4409-47b4-8c4c-1bc8bf430cca",
   "metadata": {},
   "outputs": [],
   "source": [
    "#'//'"
   ]
  },
  {
   "cell_type": "code",
   "execution_count": 26,
   "id": "e0819e86-151f-4333-ab4e-eeee78202dd8",
   "metadata": {},
   "outputs": [
    {
     "data": {
      "text/plain": [
       "2"
      ]
     },
     "execution_count": 26,
     "metadata": {},
     "output_type": "execute_result"
    }
   ],
   "source": [
    "10//5"
   ]
  },
  {
   "cell_type": "code",
   "execution_count": null,
   "id": "d9eecafc-102a-402b-96e9-0308b4006651",
   "metadata": {},
   "outputs": [],
   "source": []
  },
  {
   "cell_type": "code",
   "execution_count": 27,
   "id": "20282323-27fe-4f7a-8760-d715a1e51222",
   "metadata": {},
   "outputs": [],
   "source": [
    "# ** #"
   ]
  },
  {
   "cell_type": "code",
   "execution_count": 28,
   "id": "0a03ccc5-8be5-46bc-9771-9f87df3d1f73",
   "metadata": {},
   "outputs": [
    {
     "data": {
      "text/plain": [
       "125"
      ]
     },
     "execution_count": 28,
     "metadata": {},
     "output_type": "execute_result"
    }
   ],
   "source": [
    "5**3"
   ]
  },
  {
   "cell_type": "code",
   "execution_count": 29,
   "id": "ae2600f8-97a3-4d3c-86dd-cd3f76bec10f",
   "metadata": {},
   "outputs": [],
   "source": [
    "# Create a list of length 10 of your choice containing multiple types of data. Using for loop print the \n",
    "# element and its data type."
   ]
  },
  {
   "cell_type": "code",
   "execution_count": 30,
   "id": "f45b5763-93e0-4a52-a24e-f6517ed93cbc",
   "metadata": {},
   "outputs": [],
   "source": [
    "l = [1,2,3,4,5,\"harsh\",True, 56.78]"
   ]
  },
  {
   "cell_type": "code",
   "execution_count": 38,
   "id": "c0ca1848-f0bc-4779-86af-3e80701dfe21",
   "metadata": {},
   "outputs": [
    {
     "name": "stdout",
     "output_type": "stream",
     "text": [
      "<class 'int'>\n",
      "<class 'int'>\n",
      "<class 'int'>\n",
      "<class 'int'>\n",
      "<class 'int'>\n",
      "<class 'str'>\n",
      "<class 'bool'>\n",
      "<class 'float'>\n",
      "[1, 2, 3, 4, 5, 'harsh', True, 56.78]\n"
     ]
    }
   ],
   "source": [
    "for h in l :\n",
    "    print(type(h))\n",
    "else : \n",
    "    print(l)"
   ]
  },
  {
   "cell_type": "code",
   "execution_count": null,
   "id": "025f55c9-6378-4958-bdfa-846241d8f452",
   "metadata": {},
   "outputs": [],
   "source": []
  },
  {
   "cell_type": "code",
   "execution_count": 39,
   "id": "c0dcea4f-f314-4b81-a961-c4d434e1c934",
   "metadata": {},
   "outputs": [],
   "source": [
    "# Using a while loop, verify if the number A is purely divisible by number B and if so then how many \n",
    "# times it can be divisible"
   ]
  },
  {
   "cell_type": "code",
   "execution_count": 49,
   "id": "1f16035a-8e3f-4153-bcec-32c60950e96b",
   "metadata": {},
   "outputs": [
    {
     "name": "stdout",
     "output_type": "stream",
     "text": [
      "100 is divisible by 5 2 times.\n"
     ]
    }
   ],
   "source": [
    "def count_divisions(a, b):\n",
    "    count = 0\n",
    "    while a >= b:\n",
    "        if a % b == 0:\n",
    "            count += 1\n",
    "            a //= b  # Integer division to get the new value of 'a'\n",
    "        else:\n",
    "            break\n",
    "    return count\n",
    "\n",
    "# Test case\n",
    "A = 100\n",
    "B = 5\n",
    "result = count_divisions(A, B)\n",
    "print(f\"{A} is divisible by {B} {result} times.\")"
   ]
  },
  {
   "cell_type": "code",
   "execution_count": null,
   "id": "33286b20-5b7c-48bd-9e25-2bf44951cb67",
   "metadata": {},
   "outputs": [],
   "source": []
  },
  {
   "cell_type": "code",
   "execution_count": 1,
   "id": "68eee0ca-91bc-4e62-bc69-dbaa577b6af7",
   "metadata": {},
   "outputs": [],
   "source": [
    "#Create a list containing 25 int type data. Using for loop and if-else condition print if the element is\n",
    "#divisible by 3 or not."
   ]
  },
  {
   "cell_type": "code",
   "execution_count": 4,
   "id": "966ffe85-9dcf-4ead-b2b2-3f04f5de887e",
   "metadata": {},
   "outputs": [],
   "source": [
    "list=[i for i in range(1 , 26)]"
   ]
  },
  {
   "cell_type": "code",
   "execution_count": 26,
   "id": "29770b6b-17ec-45e5-b5bd-0cf0ba8ac839",
   "metadata": {},
   "outputs": [
    {
     "name": "stdout",
     "output_type": "stream",
     "text": [
      "{num} is not divisable by 3\n",
      "{num} is not divisable by 3\n",
      "{num} is divisable by 3\n",
      "{num} is not divisable by 3\n",
      "{num} is not divisable by 3\n",
      "{num} is divisable by 3\n",
      "{num} is not divisable by 3\n",
      "{num} is not divisable by 3\n",
      "{num} is divisable by 3\n",
      "{num} is not divisable by 3\n",
      "{num} is not divisable by 3\n",
      "{num} is divisable by 3\n",
      "{num} is not divisable by 3\n",
      "{num} is not divisable by 3\n",
      "{num} is divisable by 3\n",
      "{num} is not divisable by 3\n",
      "{num} is not divisable by 3\n",
      "{num} is divisable by 3\n",
      "{num} is not divisable by 3\n",
      "{num} is not divisable by 3\n",
      "{num} is divisable by 3\n",
      "{num} is not divisable by 3\n",
      "{num} is not divisable by 3\n",
      "{num} is divisable by 3\n",
      "{num} is not divisable by 3\n"
     ]
    }
   ],
   "source": [
    "for num in list :\n",
    "    if num % 3==0:\n",
    "        print(\"{num} is divisable by 3\")\n",
    "    else:\n",
    "        print(\"{num} is not divisable by 3\")\n",
    "        "
   ]
  },
  {
   "cell_type": "code",
   "execution_count": 28,
   "id": "739f35d0-bfdf-40bd-b50d-7d441f13de90",
   "metadata": {},
   "outputs": [],
   "source": [
    "#in mutable you can change the full string not a single word but if you create a list you can change all the elements of list although you can not \n",
    "# change a word of string you have to change whole string \n",
    "h=\"harsh\""
   ]
  },
  {
   "cell_type": "code",
   "execution_count": 22,
   "id": "4519207e-bdca-4939-80c5-ffa120b9e5ba",
   "metadata": {},
   "outputs": [
    {
     "data": {
      "text/plain": [
       "'harsh'"
      ]
     },
     "execution_count": 22,
     "metadata": {},
     "output_type": "execute_result"
    }
   ],
   "source": [
    "h"
   ]
  },
  {
   "cell_type": "code",
   "execution_count": 23,
   "id": "a4de460f-c289-42e9-a159-012f6bee7d5f",
   "metadata": {},
   "outputs": [
    {
     "ename": "SyntaxError",
     "evalue": "cannot assign to function call here. Maybe you meant '==' instead of '='? (3304648653.py, line 1)",
     "output_type": "error",
     "traceback": [
      "\u001b[0;36m  Cell \u001b[0;32mIn[23], line 1\u001b[0;36m\u001b[0m\n\u001b[0;31m    h(1)=r\u001b[0m\n\u001b[0m    ^\u001b[0m\n\u001b[0;31mSyntaxError\u001b[0m\u001b[0;31m:\u001b[0m cannot assign to function call here. Maybe you meant '==' instead of '='?\n"
     ]
    }
   ],
   "source": [
    "h(1)=r"
   ]
  },
  {
   "cell_type": "code",
   "execution_count": 24,
   "id": "e4b72179-a43f-4c4f-b604-663f40985b5a",
   "metadata": {},
   "outputs": [
    {
     "data": {
      "text/plain": [
       "'harsh'"
      ]
     },
     "execution_count": 24,
     "metadata": {},
     "output_type": "execute_result"
    }
   ],
   "source": [
    "h"
   ]
  },
  {
   "cell_type": "code",
   "execution_count": 25,
   "id": "f227f846-623c-413e-8dc9-ed31f1f38adc",
   "metadata": {},
   "outputs": [],
   "source": [
    "h=\"hasrh\""
   ]
  },
  {
   "cell_type": "code",
   "execution_count": 12,
   "id": "749361c1-90d9-4b43-89fd-66bb2f34dd05",
   "metadata": {},
   "outputs": [
    {
     "data": {
      "text/plain": [
       "'hasrh'"
      ]
     },
     "execution_count": 12,
     "metadata": {},
     "output_type": "execute_result"
    }
   ],
   "source": [
    "h"
   ]
  },
  {
   "cell_type": "code",
   "execution_count": 15,
   "id": "8881f83a-d0f1-4478-90a6-2ee5b3a8b1cf",
   "metadata": {},
   "outputs": [],
   "source": [
    "l=[1,2,3,\"harsh\",67.7]"
   ]
  },
  {
   "cell_type": "code",
   "execution_count": 19,
   "id": "336b8ff9-f44f-4f15-96c6-7c14969366d4",
   "metadata": {},
   "outputs": [],
   "source": [
    "l[1]=5"
   ]
  },
  {
   "cell_type": "code",
   "execution_count": 20,
   "id": "76f9eabe-e40f-40a2-94d8-982c3015258c",
   "metadata": {},
   "outputs": [
    {
     "data": {
      "text/plain": [
       "[1, 5, 3, 'harsh', 67.7]"
      ]
     },
     "execution_count": 20,
     "metadata": {},
     "output_type": "execute_result"
    }
   ],
   "source": [
    "l"
   ]
  },
  {
   "cell_type": "code",
   "execution_count": null,
   "id": "3f32c1f4-8430-4cea-a32c-60a4e3363b82",
   "metadata": {},
   "outputs": [],
   "source": []
  }
 ],
 "metadata": {
  "kernelspec": {
   "display_name": "Python 3 (ipykernel)",
   "language": "python",
   "name": "python3"
  },
  "language_info": {
   "codemirror_mode": {
    "name": "ipython",
    "version": 3
   },
   "file_extension": ".py",
   "mimetype": "text/x-python",
   "name": "python",
   "nbconvert_exporter": "python",
   "pygments_lexer": "ipython3",
   "version": "3.10.8"
  }
 },
 "nbformat": 4,
 "nbformat_minor": 5
}
